{
  "nbformat": 4,
  "nbformat_minor": 0,
  "metadata": {
    "colab": {
      "provenance": []
    },
    "kernelspec": {
      "name": "python3",
      "display_name": "Python 3"
    },
    "language_info": {
      "name": "python"
    }
  },
  "cells": [
    {
      "cell_type": "code",
      "execution_count": 1,
      "metadata": {
        "id": "rpxM_rmFkF22"
      },
      "outputs": [],
      "source": [
        "from bs4 import BeautifulSoup\n",
        "import requests\n",
        "import re\n",
        "import json"
      ]
    },
    {
      "cell_type": "code",
      "source": [
        "import math\n",
        "import time\n",
        "\n",
        "def get_hash(e):\n",
        "    u = -559038737\n",
        "    r = 1103547991\n",
        "\n",
        "    for n in range(len(e)):\n",
        "        t = ord(e[n])\n",
        "        u = (u ^ t) * 2654435761 & 0xFFFFFFFF\n",
        "        r = (r ^ t) * 1597334677 & 0xFFFFFFFF\n",
        "\n",
        "    u = ((u ^ (u >> 16)) * 2246822507 & 0xFFFFFFFF) ^ ((r ^ (r >> 13)) * 3266489909 & 0xFFFFFFFF)\n",
        "    r = ((r ^ (r >> 16)) * 2246822507 & 0xFFFFFFFF) ^ ((u ^ (u >> 13)) * 3266489909 & 0xFFFFFFFF)\n",
        "\n",
        "    return (4294967296 * (2097151 & r)) + (u & 0xFFFFFFFF)\n",
        "\n",
        "# Example usage\n"
      ],
      "metadata": {
        "id": "1shVC-a7kXGE"
      },
      "execution_count": 2,
      "outputs": []
    },
    {
      "cell_type": "code",
      "source": [
        "base_url=\"https://www.impisportswear.com.au\"\n",
        "products_json=base_url+\"/products.json?json=true&limit=250&page=1\"\n",
        "recommed_url=base_url+\"/recommendations/products?section_id=product__recommendations&product_id={}&limit=10\"\n",
        "quantity_url=base_url+\"/apps/easystock/?q={}&sign={}&timeh={}\""
      ],
      "metadata": {
        "id": "_YNomW6OkV47"
      },
      "execution_count": 3,
      "outputs": []
    },
    {
      "cell_type": "code",
      "source": [
        "products_response = requests.get(products_json).content\n",
        "products_response_json=json.loads(products_response)"
      ],
      "metadata": {
        "id": "SF1AH8l-xcGz"
      },
      "execution_count": 4,
      "outputs": []
    },
    {
      "cell_type": "code",
      "source": [
        "for i in products_response_json['products'][:1]:\n",
        "  product_id = i[\"id\"]\n",
        "  products_recommended_handle = [i['handle']]\n",
        "  recommed_response = requests.get(recommed_url.format(product_id)).content\n",
        "  soup=BeautifulSoup(recommed_response)\n",
        "  list_products_recommened = soup.findAll('div',{\"class\":\"image__container product__imageContainer\"})\n",
        "  # products_recommended_handle += \",\".join([i.find(\"a\",{\"href\":True}).get(\"href\").replace(\"/products/\",\"\").split(\"?\")[0] for i in list_products_recommened[-2:]])+\",\"+\",\".join([i.find(\"a\",{\"href\":True}).get(\"href\").replace(\"/products/\",\"\").split(\"?\")[0] for i in list_products_recommened[:-2]])\n",
        "  products_recommended_handle = products_recommended_handle + [i.find(\"a\",{\"href\":True}).get(\"href\").replace(\"/products/\",\"\").split(\"?\")[0] for i in list_products_recommened[-2:]]\n",
        "  products_recommended_handle = products_recommended_handle + [i.find(\"a\",{\"href\":True}).get(\"href\").replace(\"/products/\",\"\").split(\"?\")[0] for i in list_products_recommened[:-2]]\n",
        "  q=\",\".join(products_recommended_handle)\n",
        "  t=str(int(time.time()*1000))\n",
        "  s='dM1xupB07XNx'\n",
        "  quantity_url=quantity_url.format(q,get_hash(q+t+s),t)\n",
        "  product_include_quantity_json=json.loads(requests.get(quantity_url).content)\n",
        "  for h in products_recommended_handle:\n",
        "    variants = product_include_quantity_json['products'][h][\"variants\"]\n",
        "    print([{i[\"id\"]:i[\"quantity\"]} for i in variants] )\n",
        "  # print([product_include_quantity_json[\"products\"][i][\"variants\"][\"id\"] for i in products_recommended_handle])\n",
        "  # print(product_include_quantity_json['products'][products_recommended_handle[0]][\"variants\"][\"id\"]+\" | \"+str(product_include_quantity_json['products'][products_recommended_handle[0]][\"variants\"][\"quantity\"]))"
      ],
      "metadata": {
        "colab": {
          "base_uri": "https://localhost:8080/"
        },
        "id": "GxOwx6IGx1rG",
        "outputId": "860096f3-741d-45b8-c2da-12488605dfd0"
      },
      "execution_count": 20,
      "outputs": [
        {
          "output_type": "stream",
          "name": "stdout",
          "text": [
            "[{40684302270549: 9}, {40684302303317: 9}, {40684302336085: 0}, {40684302368853: 0}, {40684302401621: 11}, {40684302434389: 14}]\n",
            "[{39402850287701: 0}, {39402849435733: 0}, {39402849468501: 0}, {39402849501269: 55}]\n",
            "[{40667462893653: 0}, {39620415848533: 14}, {39512650252373: 38}, {39512650285141: 13}, {39512650317909: 82}, {39512650350677: 72}, {39512650383445: 86}, {39512650416213: 46}, {40164504961109: 22}]\n",
            "[{31641674514517: 24}, {31641674547285: 47}, {31641674580053: 110}, {32244474445909: 64}, {39297694171221: 55}, {40054534209621: 31}]\n",
            "[{30195892191303: 34}, {30195892224071: 67}, {30195892256839: 109}, {30195892289607: 107}, {30195892322375: 83}, {39372779257941: 45}, {40084118536277: 24}]\n",
            "[{40293938167893: 27}, {40293938200661: 44}, {40293938266197: 72}, {40293938298965: 8}, {40293938331733: 89}, {40293938364501: 60}]\n",
            "[{39620333797461: 0}, {39620333830229: 0}, {39620333862997: 0}, {39620333895765: -1}, {39620333928533: 0}, {39620333961301: -1}, {40071709261909: 16}]\n",
            "[{32943532212309: 39}, {32943532245077: 51}, {32943532277845: 65}, {32943532310613: 60}, {32943532343381: 30}, {39349986361429: 16}, {40835698098261: 8}]\n",
            "[{39429709398101: 30}, {39429709430869: 50}, {39429709463637: 63}, {39429709496405: 73}, {39429709529173: 71}, {39429709561941: 46}, {40242064851029: 15}]\n",
            "[{40294151880789: 20}, {40294151979093: 45}, {40294152044629: 107}, {40294152142933: 78}, {40294152175701: 64}, {40294152208469: 40}]\n",
            "[{40294094110805: 31}, {40294094143573: 62}, {40294094176341: 58}, {40294094209109: 46}, {40294094241877: 67}, {40294094274645: 28}]\n"
          ]
        }
      ]
    },
    {
      "cell_type": "code",
      "source": [
        "for i in products_response_json['products'][:1]:\n",
        "  products_recommended_handle = i['handle']+\",\"\n",
        "  recommed_response = requests.get(recommed_url.format(4790226485333)).content\n",
        "  soup=BeautifulSoup(recommed_response)\n",
        "  list_products_recommened = soup.findAll('div',{\"class\":\"image__container product__imageContainer\"})\n",
        "  products_recommended_handle += \",\".join([i.find(\"a\",{\"href\":True}).get(\"href\").replace(\"/products/\",\"\").split(\"?\")[0] for i in list_products_recommened[-2:]])+\",\"+\",\".join([i.find(\"a\",{\"href\":True}).get(\"href\").replace(\"/products/\",\"\").split(\"?\")[0] for i in list_products_recommened[:-2]])\n",
        "t=str(int(time.time()*1000))\n",
        "s='dM1xupB07XNx'\n",
        "quantity_url.format(products_recommended_handle,get_hash(products_recommended_handle+t+s),t)"
      ],
      "metadata": {
        "colab": {
          "base_uri": "https://localhost:8080/",
          "height": 53
        },
        "id": "5TCVzMTHlU9U",
        "outputId": "34d72cc3-ec4e-47f3-d5b5-bf6477c00099"
      },
      "execution_count": null,
      "outputs": [
        {
          "output_type": "execute_result",
          "data": {
            "text/plain": [
              "'https://www.impisportswear.com.au/apps/easystock/?q=impi-socks,impi-socks-grey-white,impi-ankle-socks-white,impi-socks-red-white,impi-socks-black-hot-pink,impi-socks-aqua-teal-1,impi-socks-navy-cerise,impi-socks-pastel-peach,impi-socks-pastel-blue,impi-socks-hot-pink-white,impi-socks-cornflower&sign=5534939717952178&timeh=1720681162201'"
            ],
            "application/vnd.google.colaboratory.intrinsic+json": {
              "type": "string"
            }
          },
          "metadata": {},
          "execution_count": 48
        }
      ]
    },
    {
      "cell_type": "code",
      "source": [],
      "metadata": {
        "colab": {
          "base_uri": "https://localhost:8080/"
        },
        "collapsed": true,
        "id": "MdGnaWfwYDor",
        "outputId": "fbb6abc7-bc73-43a1-eba9-ec5a4f1f3665"
      },
      "execution_count": null,
      "outputs": [
        {
          "output_type": "execute_result",
          "data": {
            "text/plain": [
              "['impi-socks-red-white',\n",
              " 'impi-socks-black-hot-pink',\n",
              " 'impi-socks-aqua-teal-1',\n",
              " 'impi-socks-navy-cerise',\n",
              " 'impi-socks-pastel-peach',\n",
              " 'impi-socks-pastel-blue',\n",
              " 'impi-socks-hot-pink-white',\n",
              " 'impi-socks-cornflower']"
            ]
          },
          "metadata": {},
          "execution_count": 33
        }
      ]
    },
    {
      "cell_type": "code",
      "source": [],
      "metadata": {
        "id": "WWm7ENIelU2S"
      },
      "execution_count": null,
      "outputs": []
    },
    {
      "cell_type": "code",
      "source": [],
      "metadata": {
        "id": "NXfFE7rYlUzD"
      },
      "execution_count": null,
      "outputs": []
    },
    {
      "cell_type": "code",
      "source": [],
      "metadata": {
        "id": "9BJMSWNQlUtt"
      },
      "execution_count": null,
      "outputs": []
    },
    {
      "cell_type": "code",
      "source": [],
      "metadata": {
        "id": "cZfZ1rPxlUlM"
      },
      "execution_count": null,
      "outputs": []
    },
    {
      "cell_type": "code",
      "source": [
        "\n",
        "base_url = \"https://www.impisportswear.com.au/recommendations/products?section_id=product__recommendations&product_id=7020232605781&limit=10\"\n",
        "handl_url = \"\"\n",
        "url_key ='''https://www.impisportswear.com.au/apps/easystock/?q=impi-strappy-running-bra-top-coral-urchin,impi-running-tee-electric-blue,impi-strappy-running-bra-top-white,impi-bucket-hat,impi-high-waist-running-short-coral-urchin,impi-strappy-running-bra-top-lilac,impi-strappy-running-bra-top-lavender-haze,impi-high-waist-running-short-lavender-haze,impi-strappy-running-bra-top-all-natural-1,impi-high-waist-running-short-pink-hibiscus,impi-strappy-running-bra-top-navy&sign=1036020539155755&timeh=1720630378036'''\n",
        "rs = requests.get(base_url+handl_url).content\n"
      ],
      "metadata": {
        "id": "pYHiZ6eSkyfj"
      },
      "execution_count": null,
      "outputs": []
    }
  ]
}